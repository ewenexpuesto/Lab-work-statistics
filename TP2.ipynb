{
 "cells": [
  {
   "cell_type": "code",
   "execution_count": null,
   "metadata": {
    "vscode": {
     "languageId": "r"
    }
   },
   "outputs": [],
   "source": [
    "n <- 10\n",
    "\n",
    "x <- runif(n,-1,1)\n",
    "\n",
    "x_max <- max(x)\n",
    "x_min <- min(x)"
   ]
  },
  {
   "cell_type": "code",
   "execution_count": null,
   "metadata": {
    "vscode": {
     "languageId": "r"
    }
   },
   "outputs": [],
   "source": [
    "\n",
    "monte_carlo <- function(m) {\n",
    "    for (i in 1:m) {\n",
    "        n <- 10\n",
    "        x <- runif(n,-1,1)\n",
    "        x_max <- max(x)\n",
    "        x_min <- min(x)\n",
    "        print(c(\"Minimum and maximum\",x_min,x_max))\n",
    "    }\n",
    "}\n",
    "\n",
    "monte_carlo(50)\n",
    "\n",
    "# Les maxima sont quasi tous positifs et souvent proches de 1\n"
   ]
  },
  {
   "cell_type": "markdown",
   "metadata": {},
   "source": [
    "The following code block doesn't work but after it works"
   ]
  },
  {
   "cell_type": "code",
   "execution_count": null,
   "metadata": {
    "vscode": {
     "languageId": "r"
    }
   },
   "outputs": [],
   "source": [
    "# Exercice 7\n",
    "\n",
    "monte_carlo(100)\n",
    "\n",
    "m <- 100\n",
    "\n",
    "datmat_min <- matrix(c(0), nrow=1, ncol=m)\n",
    "datmat_max <- matrix(c(0), nrow=1, ncol=m)\n",
    "for (i in 1:m) {\n",
    "    n <- 10\n",
    "    x <- runif(n,-1,1)\n",
    "    x_max <- max(x)\n",
    "    x_min <- min(x)\n",
    "    datmat_min[,i] <- x_min\n",
    "    datmat_max[,i] <- x_max\n",
    "    print(c(\"Minimum and maximum\",x_min,x_max))\n",
    "}\n",
    "\n",
    "# La loi des minimums et des maximums a l'air d'être une loi exponentielle\n",
    "\n",
    "# Affichage des graphiques\n",
    "hist(datmat_min,breaks=20) # breaks pour voir plus précisément\n",
    "hist(datmat_max,breaks=20)\n",
    "boxplot(c(datmat_min)) # il faut convertir la liste en un vecteur pour afficher le boxplot correctement\n",
    "boxplot(c(datmat_max))\n",
    "\n",
    "# Affichage de la moyenne\n",
    "mean_min <- mean(datmat_min)\n",
    "mean_max <- mean(datmat_max)\n",
    "print(c(\"Moyenne des minimums\",mean_min))\n",
    "print(c(\"Moyenne des maximums\",mean_max))\n",
    "\n",
    "# Densité théorique\n",
    "min_th <- dexp(m,1)\n",
    "\n",
    "lines(c(datmat_min),rexp(m,1))"
   ]
  },
  {
   "cell_type": "code",
   "execution_count": null,
   "metadata": {
    "vscode": {
     "languageId": "r"
    }
   },
   "outputs": [],
   "source": [
    "set.seed(123)\n",
    "m <- 100\n",
    "Mn_values <- numeric(m)\n",
    "Nn_values <- numeric(m)\n",
    "\n",
    "for (i in 1:m) {\n",
    "  sample_U <- runif(n, min = -1, max = 1)\n",
    "  Mn_values[i] <- max(sample_U)\n",
    "  Nn_values[i] <- min(sample_U)\n",
    "}\n",
    "\n",
    "# Histogramme des Mn\n",
    "hist(Mn_values, probability = TRUE, col = \"lightblue\", breaks = 10,\n",
    "     main = \"Histogramme de Mn\", xlab = \"Maxima\")\n",
    "curve(n * (x + 1)^(n - 1) / 2^n, add = TRUE, col = \"red\", lwd = 2)  # Densité théorique\n",
    "\n",
    "# Histogramme des Nn\n",
    "hist(Nn_values, probability = TRUE, col = \"lightgreen\", breaks = 10,\n",
    "     main = \"Histogramme de Nn\", xlab = \"Minima\")\n",
    "curve(n * (1 - x)^(n - 1) / 2^n, add = TRUE, col = \"red\", lwd = 2)  # Densité théorique\n",
    "\n",
    "# Boxplot des Mn et Nn\n",
    "boxplot(Mn_values, Nn_values, names = c(\"Mn\", \"Nn\"),\n",
    "        col = c(\"lightblue\", \"lightgreen\"), main = \"Boxplots de Mn et Nn\")\n"
   ]
  },
  {
   "cell_type": "code",
   "execution_count": null,
   "metadata": {
    "vscode": {
     "languageId": "r"
    }
   },
   "outputs": [],
   "source": [
    "# Exercice 8\n"
   ]
  },
  {
   "cell_type": "code",
   "execution_count": null,
   "metadata": {
    "vscode": {
     "languageId": "r"
    }
   },
   "outputs": [],
   "source": [
    "#Exercice 9\n",
    "\n",
    "B = 500\n",
    "p = 0.5\n",
    "m_values = c(20,100,200)\n",
    "col = length(m_values)\n",
    "\n",
    "#Initialisation matrie moyenne et variance\n",
    "\n",
    "moy <- matrix(c(0), nrow = B, ncol = col)\n",
    "variance <- matrix(c(0), nrow = B, ncol = col)\n",
    "\n",
    "for(j in 1:col){\n",
    "  m <- m_values[j]\n",
    "  for(i in 1:B){\n",
    "    x = rbinom(m, 1, p)\n",
    "    moy[i,j] = mean(x)\n",
    "    variance[i,j] = var(x)\n",
    "  }\n",
    "}\n",
    "\n",
    "par(mfrow = c(1,3))\n",
    "\n",
    "for(j in 1:col){\n",
    "  hist(moy[,j], probability = TRUE,main=paste(\"Histogramme des moyennes|nm= = \",m_values[j] ), xlab=\"Moyenne empirique\")\n",
    "  abline(v = p, col=\"red\")\n",
    "}\n",
    "\n",
    "par(mfrow = c(1,1))"
   ]
  },
  {
   "cell_type": "code",
   "execution_count": null,
   "metadata": {
    "vscode": {
     "languageId": "r"
    }
   },
   "outputs": [],
   "source": [
    "#Exercice 10\n",
    "\n",
    "#Initalisation matrice U\n",
    "\n",
    "U <- matrix(c(0), nrow = B, ncol = col)\n",
    "\n",
    "for(j in 1:col){\n",
    "  m <- m_values[j]\n",
    "  for(i in 1:B){\n",
    "    x = rbinom(m, 1, p)\n",
    "    x_bar = mean(x)\n",
    "    a_m <- p\n",
    "    b_m = sqrt(p * (1-p) / m)\n",
    "    U[i, j] <- (x_bar - a_m) / b_m\n",
    "  }\n",
    "}\n",
    "\n",
    "#Pour trouver a_m, et b_m, on utilise le TCL, on utilise linéarité de E ainsi que les propriétés sur V et le fait que c'est une suite de VA iid\n",
    "#On résout le system E[U_(m,i)] = E[(x_bar - a_m) / b_m] = 0 \n",
    "#V[U_(m,i)] = V[[(x_bar - a_m) / b_m]] = 1\n",
    "\n",
    "par(mfrow = c(1,3))\n",
    "xx <- seq(-4, 4, length=100)\n",
    "yy= dnorm(xx, mean=0, sd=1)\n",
    "\n",
    "for(j in 1:col){\n",
    "  hist(U[, j], probability = TRUE,main=paste(\"m = \",m_values[j] ), xlab=\"U_(m,i)\")\n",
    "  lines(xx, yy, col=\"red\")\n",
    "}\n",
    "\n",
    "par(mfrow = c(1,1))\n",
    "\n",
    "#Conclusion plus m est grand plus on se rapproche de la loi théorique, c'est une application du TCL"
   ]
  }
 ],
 "metadata": {
  "kernelspec": {
   "display_name": "R",
   "language": "R",
   "name": "ir"
  },
  "language_info": {
   "codemirror_mode": "r",
   "file_extension": ".r",
   "mimetype": "text/x-r-source",
   "name": "R",
   "pygments_lexer": "r",
   "version": "4.2.2"
  }
 },
 "nbformat": 4,
 "nbformat_minor": 2
}
