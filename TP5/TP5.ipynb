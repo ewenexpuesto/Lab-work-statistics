{
 "cells": [
  {
   "cell_type": "code",
   "execution_count": 1,
   "id": "a57a9775",
   "metadata": {
    "vscode": {
     "languageId": "r"
    }
   },
   "outputs": [],
   "source": [
    "knitr::opts_chunk$set(echo = TRUE, results=\"hide\", eval=FALSE)"
   ]
  },
  {
   "cell_type": "markdown",
   "id": "69b1634d",
   "metadata": {},
   "source": [
    "## A. Tests d'hypothèses\n",
    "### 1. Tests paramétriques\n",
    "\n",
    "Pour les échantillons iid $X_i\\sim \\mathcal{N} (\\mu, \\sigma^2), i=1,\\ldots, n$,\n",
    "considerons un test d'hypothèse simple\n",
    "$H_0: \\mu = \\mu_0 \\quad$ vs $\\quad H_1: \\mu = \\mu_1$\n",
    "où $\\mu_1 > \\mu_0$ et $\\sigma=\\sigma_0$ est connu. Pour $\\mathbf{X} = (X_1,\\ldots, X_n)$ donné, nous savons que le test de Neyman-Pearson (NP) rejeté $H_0$ si \n",
    "$T(\\textbf{X}) > k_\\alpha $\n",
    "pour une valeur seuil appropriée $k_\\alpha$. On rappelle que\n",
    "$\\alpha = P_{H_0}(T(\\mathbf{X}) > k_\\alpha) \\quad \\beta = P_{H_1}(T(\\mathbf{X})> k_\\alpha)$\n",
    "Celles-ci donnent des garanties théoriques pour contrôler les erreurs de décision, $\\alpha$ et $1-\\beta$.\n"
   ]
  },
  {
   "cell_type": "markdown",
   "id": "1be4e7d8",
   "metadata": {},
   "source": [
    "**Ex1.** Nous voulons construire un test NP. Donner la statistique de test $T(\\mathbf{X})$.\n",
    "\n",
    "**Ex2.** Étant donné $n=50, \\sigma_0 = 1, \\mu_0 = 0, \\mu_1 = 0.1$, évaluer les valeurs théoriques pour $k_\\alpha$ et $\\beta$. Quelle est l'interprétation de ces valeurs $\\alpha$ et $\\beta$?\n",
    "\n",
    "**Ex3.** Simuler des données avec le paramètre ci-dessus et effectuer le test de niveau $\\alpha=0.1$ $M=100$ fois. Donnez un approxmation de $\\alpha$ et $\\beta$.\n",
    "Le test contrôle-t-il l'erreur comme promis ? "
   ]
  },
  {
   "cell_type": "code",
   "execution_count": null,
   "id": "bafe9f5d",
   "metadata": {
    "vscode": {
     "languageId": "r"
    }
   },
   "outputs": [],
   "source": [
    "alp <- 0.1\n",
    "nsimu <- 100\n",
    "n <-50\n",
    "mu0 <- 0\n",
    "mu1<-0.1\n",
    "sig0 <- 1\n",
    "Kalpha <- ...\n",
    "beta <- ...\n",
    "N_alpha <- c()\n",
    "N_beta <- c()\n",
    "for(simu in 1:nsimu){\n",
    "  X0 <- rnorm(n,mu0,sig0)\n",
    "  X1 <- rnorm(n,mu1,sig0)\n",
    "  N_alpha <- append(N_alpha,mean(X0)>Kalpha)\n",
    "  N_beta <- append(N_beta,mean(X1)>Kalpha)\n",
    "}\n",
    "alpha_estim <- mean(N_alpha)\n",
    "beta_estim <- mean(N_beta)\n",
    "print(c(\"estmation de alpha :\",alpha_estim))\n",
    "print(c(\"estmation de beta :\",beta_estim))"
   ]
  },
  {
   "cell_type": "markdown",
   "id": "c30077c8",
   "metadata": {},
   "source": [
    "Comment peut-on interpreter le plot suivant ?"
   ]
  },
  {
   "cell_type": "code",
   "execution_count": null,
   "id": "3c784ee2",
   "metadata": {
    "vscode": {
     "languageId": "r"
    }
   },
   "outputs": [],
   "source": [
    "alphas <- seq(0,1,0.1)\n",
    "betas <- pnorm((mu1-mu0)*sqrt(n)/sig0 + qnorm(alpha,0,1),0,1)\n",
    "plot(alphas,betas,ylab = \"beta\",xlab=\"alpha\")"
   ]
  },
  {
   "cell_type": "markdown",
   "id": "611bed8d",
   "metadata": {},
   "source": [
    "**Ex4.** Au lieu de déterminer $k_\\alpha$ pour les tests, nous pouvons calculer la valeur $p$, définie comme\n",
    "\\[\n",
    "p_{val} = P_{H_0}(T(\\mathbf{X}) > T(\\mathbf{x}))\n",
    "\\]\n",
    "où $T(\\mathbf{x})$ est la statistique du test observée.\n",
    "Expliquer comment utiliser la valeur $p$ pour établir une règle de décision pour le test."
   ]
  },
  {
   "cell_type": "markdown",
   "id": "b6232596",
   "metadata": {},
   "source": [
    "**Ex5.** Consideron le cas où $\\sigma$ est inconnu, quell est la statistique de test ? Y a-t-il une différence dans votre conclusion?"
   ]
  },
  {
   "cell_type": "markdown",
   "id": "8a4337f5",
   "metadata": {},
   "source": [
    "## 2. Construction d'un test statistique par simulation"
   ]
  },
  {
   "cell_type": "markdown",
   "id": "19b6b15f",
   "metadata": {},
   "source": [
    "Un test d'hypothèse valide exige que nous rejetions incorrectement l'hypothèse nulle une proportion appropriée du temps (par exemple, au plus 5% de fois).\n",
    "\n",
    "Losque nous disposons d'une statistique de test $T(\\mathbf{X})$, et que nous souhaitons rejecter l'hypothèse nulle $H_0$ si $T(\\mathbf{X})$ est plus grande (ou plus petite) qu'un certain seuil, alors pour avoir un test de niveau $\\alpha$, il faut calculer le seuil $k_\\alpha$ tel que\n",
    "$\\Pr(T(\\mathbf{X})> k_\\alpha |$ Hypothèse nulle vraie $) = \\alpha$.\n",
    "Cependant, si nous ne pouvons pas calculer $k_\\alpha$ de manière analytique (c'est-à-dire via une formule exacte), nous pouvons utiliser la simulation pour estimer $k_\\alpha$. \n",
    "Ce que nous devons faire est de simuler des ensembles de données répliqués sous l'hypothèse Nulle.}\n",
    "\n",
    "*Noter que pour implémenter un test d’hypothèse basé sur la simulation, il suffit de pouvoir simuler des données sous l’hypothèse nulle. On n’a pas besoin de connaître analytiquement la loi de la statistique de test. Dans de nombreuses disciplines scientifiques, cette approche est très utilisée. Les chercheurs choisissent une statistique de test qui réflète bien l'effet ou le phénomène qu'ils cherchent à détecter et utilisent la simulation pour calculer la valeur seuil à partir de la distribution empirique de la statistique choisie sous l'hypothèse nulle.*"
   ]
  },
  {
   "cell_type": "markdown",
   "id": "a1664f0f",
   "metadata": {},
   "source": [
    "### Test d'ajustement de Kolmogorov\n",
    "\n",
    "Nous pouvons appliquer la stratégie de simulation pour évaluer la pertinence des modèles statistiques vis-à-vis des données observées. \n",
    "\n",
    "Soit $X_1,\\ldots, X_n$ un échantillon de loi inconnue $P_{\\boldsymbol{\\theta}}$ de fonction de répartition $F$ supposée continue. L’objectif du test de Kolmogorov est l’ajustement de la loi inconnue $P$ à une loi connue $P_0$ de fonction de répartition continue $F_0$:\n",
    "$H_0: F = F_0 \\qquad H_1: F \\neq F_0$"
   ]
  },
  {
   "cell_type": "markdown",
   "id": "f0e8b244",
   "metadata": {},
   "source": [
    "**Ex6.** Supposons que $P_0 = \\mathcal{N}(\\mu, \\sigma)$ avec $\\theta=(\\mu, \\sigma)$ sont connus, construire le test de Kolmogorov (Kolmogorov-Smirnov) de niveau $\\alpha$ (sur la base de l'approximation asymmtotique)."
   ]
  },
  {
   "cell_type": "code",
   "execution_count": 80,
   "id": "d93e81ab",
   "metadata": {
    "vscode": {
     "languageId": "r"
    }
   },
   "outputs": [],
   "source": [
    "### Remplir la fonction suivante pour calculer la statistique de test Kolmogorov\n",
    "ks_stat <- function(x, mu, sigma) {\n",
    "  x_ord <- sort(x)\n",
    "  n <- length(x) # taille de l'échantillon\n",
    "  F_emp <- (1:n) / n # calculer la distribution empirique\n",
    "  F_theo <- pnorm(x_ord, mean = mu, sd = sigma) # calculer la distribution theorique\n",
    "  D <- max(abs(F_emp - F_theo)) #calcule de la KS distance\n",
    "  return(D)\n",
    "}"
   ]
  },
  {
   "cell_type": "code",
   "execution_count": 58,
   "id": "228e98ff",
   "metadata": {
    "vscode": {
     "languageId": "r"
    }
   },
   "outputs": [
    {
     "name": "stdout",
     "output_type": "stream",
     "text": [
      "On ne rejette pas H0 : D_n = 0.01583644 <= valeur critique = 0.04300698 \n"
     ]
    }
   ],
   "source": [
    "## Prenez mu et sigma a votre choix\n",
    "mu = 1\n",
    "sigma = 1 \n",
    "n = 1000 # sinon object 'n' not found\n",
    "x_obs = rnorm(n, mean = mu, sd = sigma)  # générer une observation de modèle choisi.\n",
    "D_obs <- ks_stat(x=x_obs, mu= mu, sigma=sigma) # calculer la KS statistique\n",
    "###les valeurs critiques\n",
    "alp = 0.05\n",
    "c_alpha = 1.36 ## le quantile (1-alpha) de la loi Kolmogorov\n",
    "k_a = c_alpha/sqrt(n)\n",
    "###Conclusion\n",
    "if (D_obs > k_a) { # il fallait remplacer ici par rapport à l'énoncé\n",
    "  cat(\"On rejette H0 : D_n =\", D_obs, \"> valeur critique =\", k_a, \"\\n\")\n",
    "} else {\n",
    "  cat(\"On ne rejette pas H0 : D_n =\", D_obs, \"<= valeur critique =\", k_a, \"\\n\")\n",
    "}"
   ]
  },
  {
   "cell_type": "markdown",
   "id": "d37c7606",
   "metadata": {},
   "source": [
    "**Ex7.** Utiliser la fonction `ks.test()` en `R` pour effectuer le test, puis comparer les résultats avec ceux obtenus dans l'exercice précédent."
   ]
  },
  {
   "cell_type": "code",
   "execution_count": null,
   "id": "7c5f5d80",
   "metadata": {
    "vscode": {
     "languageId": "r"
    }
   },
   "outputs": [
    {
     "name": "stdout",
     "output_type": "stream",
     "text": [
      "\n",
      "\tAsymptotic one-sample Kolmogorov-Smirnov test\n",
      "\n",
      "data:  x_obs\n",
      "D = 0.015836, p-value = 0.9634\n",
      "alternative hypothesis: two-sided\n",
      "\n"
     ]
    }
   ],
   "source": [
    "ks_result <- ks.test(x_obs, \"pnorm\", mean = mu, sd = sigma)\n",
    "print(ks_result)"
   ]
  },
  {
   "cell_type": "markdown",
   "id": "1a7182b8",
   "metadata": {},
   "source": [
    "La statistique D est proche dans le test manuel et avec ks.test\n",
    "La p valeur est supérieure à 0.05 donc on ne rejette pas H0, comme avant"
   ]
  },
  {
   "cell_type": "markdown",
   "id": "5f73528e",
   "metadata": {},
   "source": [
    "**Ex8.** Supposons que le modèle le mieux adjusté ait la valeur de paramètre $\\hat{\\boldsymbol{\\theta}}$. Soit $F_0$ la fonction de répartition du modèle ajusté $P_{\\hat{\\boldsymbol{\\theta}}}$.\n",
    "\n",
    "Notons que lorsque $\\hat{\\theta} = (\\hat{\\mu},\\hat{\\sigma})$ est estimé à partir des données, l’approximation asymptotique standard de Kolmogorov–Smirnov n’est plus valide. La distribution limite de la statistique de Kolmogorov–Smirnov dépend de la méthode d’estimation et du modèle sous-jacent. Nous voulons donc proposer une méthode alternative.\n",
    "\n",
    "Construire un test Kolmogorov par une méthode alternative basée sur la simulation."
   ]
  },
  {
   "cell_type": "code",
   "execution_count": 62,
   "id": "dce8f08a",
   "metadata": {
    "vscode": {
     "languageId": "r"
    }
   },
   "outputs": [
    {
     "name": "stdout",
     "output_type": "stream",
     "text": [
      "On ne rejette pas H0 : D_n = 0.01583644 <= valeur critique = 0.04300698 \n"
     ]
    }
   ],
   "source": [
    "mu_hat <- mean(x_obs)\n",
    "sigma_hat <- sd(x_obs)\n",
    "simu <- 1000\n",
    "D_sim <- numeric(simu)\n",
    "\n",
    "for (s in 1:simu) {\n",
    "  # Générer des données sous H0\n",
    "  x_sim <- rnorm(n, mean = mu_hat, sd = sigma_hat)\n",
    "\n",
    "  # Réestimer les paramètres sur l’échantillon simulé\n",
    "  mu_sim <- mean(x_sim)\n",
    "  sigma_sim <- sd(x_sim)\n",
    "\n",
    "  # Calculer la stat KS\n",
    "  D_sim[s] <- ks_stat(x=x_sim, mu=mu_sim, sigma=sigma_sim)\n",
    "}\n",
    "\n",
    "## Calcul de la valeur critique et décision\n",
    "quantile_alpha <- quantile(x=D_sim, probs= 1-alp) \n",
    "\n",
    "## Conclusion\n",
    "if (D_obs > quantile_alpha) { # il fallait remplacer ici par rapport à l'énoncé\n",
    "  cat(\"On rejette H0 : D_n =\", D_obs, \"> valeur critique =\", k_a, \"\\n\")\n",
    "} else {\n",
    "  cat(\"On ne rejette pas H0 : D_n =\", D_obs, \"<= valeur critique =\", k_a, \"\\n\")\n",
    "}"
   ]
  },
  {
   "cell_type": "markdown",
   "id": "ae52cded",
   "metadata": {},
   "source": [
    "## B. Application: Air quality monitoring\n",
    "\n",
    "[Airparif](https://airparif.asso.fr) exploite un système de surveillance de la qualité de l'air avec un réseau de sites dans la région de la capitale (Ile de France) sur lesquels les mesures de la qualité de l'air sont effectuées automatiquement. Ces mesures sont utilisées pour résumer les niveaux actuels de pollution atmosphérique, pour prévoir les niveaux futurs et pour fournir des données pour la recherche scientifique, contribuant à l'évaluation des risques pour la santé et des impacts environnementaux des polluants atmosphériques.\n",
    "\n",
    "Nous examinerons *l'ozone troposphérique* ($O_3$). Ce polluant n'est pas émis directement dans l'atmosphère, mais est produit par des réactions chimiques entre le dioxyde d'azote ($NO_2$), les hydrocarbures et la lumière du soleil. Nous nous concentrerons sur les données de deux sites de surveillance: un site urbain à Neuilly-sur-seine (**NEUIL**) et un site rural (**RUR.SE**) près de la forêt de Fontainbleu.\n",
    "\n",
    "Les données de chaque site sont des mesures quotidiennes de la concentration moyenne horaire maximale de $O_3$ enregistrée en microgrammes par mètre cube ($\\mu g/m^3$), de 2014 à 2019 inclusivement. Pour nous concentrer sur la question de la saison, nous comparons les données de *hiver* (novembre-février inclus) (`Ozone_hiver.csv`) et *été* (mai - août inclus) (`Ozone_ete.csv`).\n",
    "\n",
    "Nous souhaitons savoir comment la distribution des mesures de l'ozone varie-t-elle entre les sites urbains et ruraux. Nous désignons les données sur l'ozone du site urbain par $X_i$ et le site rural par $Y_i$, $i=1,\\ldots,n$, l'indice indiquant les $n$ jours différents pour lesquels nous avons des mesures et définissons la variable $D_i = X_i-Y_i$ pour la difference.\n",
    "\n",
    "Télécharger les fichiers `Ozone_hiver.csv` et `Ozone_ete.csv` et les placer dans la même répétoire de votre espace de travail courant. Utiliser les codes suivant pour importer les données"
   ]
  },
  {
   "cell_type": "code",
   "execution_count": 65,
   "id": "028d62dc",
   "metadata": {
    "vscode": {
     "languageId": "r"
    }
   },
   "outputs": [
    {
     "data": {
      "text/html": [
       "<table class=\"dataframe\">\n",
       "<caption>A data.frame: 6 × 3</caption>\n",
       "<thead>\n",
       "\t<tr><th></th><th scope=col>date2</th><th scope=col>NEUIL</th><th scope=col>RUR.SE</th></tr>\n",
       "\t<tr><th></th><th scope=col>&lt;chr&gt;</th><th scope=col>&lt;int&gt;</th><th scope=col>&lt;int&gt;</th></tr>\n",
       "</thead>\n",
       "<tbody>\n",
       "\t<tr><th scope=row>1</th><td>2014-11-03</td><td>42</td><td>70</td></tr>\n",
       "\t<tr><th scope=row>2</th><td>2014-11-04</td><td>51</td><td>62</td></tr>\n",
       "\t<tr><th scope=row>3</th><td>2014-11-05</td><td>31</td><td>51</td></tr>\n",
       "\t<tr><th scope=row>4</th><td>2014-11-06</td><td>36</td><td>62</td></tr>\n",
       "\t<tr><th scope=row>5</th><td>2014-11-07</td><td>58</td><td>72</td></tr>\n",
       "\t<tr><th scope=row>6</th><td>2014-11-08</td><td>40</td><td>67</td></tr>\n",
       "</tbody>\n",
       "</table>\n"
      ],
      "text/latex": [
       "A data.frame: 6 × 3\n",
       "\\begin{tabular}{r|lll}\n",
       "  & date2 & NEUIL & RUR.SE\\\\\n",
       "  & <chr> & <int> & <int>\\\\\n",
       "\\hline\n",
       "\t1 & 2014-11-03 & 42 & 70\\\\\n",
       "\t2 & 2014-11-04 & 51 & 62\\\\\n",
       "\t3 & 2014-11-05 & 31 & 51\\\\\n",
       "\t4 & 2014-11-06 & 36 & 62\\\\\n",
       "\t5 & 2014-11-07 & 58 & 72\\\\\n",
       "\t6 & 2014-11-08 & 40 & 67\\\\\n",
       "\\end{tabular}\n"
      ],
      "text/markdown": [
       "\n",
       "A data.frame: 6 × 3\n",
       "\n",
       "| <!--/--> | date2 &lt;chr&gt; | NEUIL &lt;int&gt; | RUR.SE &lt;int&gt; |\n",
       "|---|---|---|---|\n",
       "| 1 | 2014-11-03 | 42 | 70 |\n",
       "| 2 | 2014-11-04 | 51 | 62 |\n",
       "| 3 | 2014-11-05 | 31 | 51 |\n",
       "| 4 | 2014-11-06 | 36 | 62 |\n",
       "| 5 | 2014-11-07 | 58 | 72 |\n",
       "| 6 | 2014-11-08 | 40 | 67 |\n",
       "\n"
      ],
      "text/plain": [
       "  date2      NEUIL RUR.SE\n",
       "1 2014-11-03 42    70    \n",
       "2 2014-11-04 51    62    \n",
       "3 2014-11-05 31    51    \n",
       "4 2014-11-06 36    62    \n",
       "5 2014-11-07 58    72    \n",
       "6 2014-11-08 40    67    "
      ]
     },
     "metadata": {},
     "output_type": "display_data"
    },
    {
     "data": {
      "text/html": [
       "<table class=\"dataframe\">\n",
       "<caption>A data.frame: 6 × 3</caption>\n",
       "<thead>\n",
       "\t<tr><th></th><th scope=col>date2</th><th scope=col>NEUIL</th><th scope=col>RUR.SE</th></tr>\n",
       "\t<tr><th></th><th scope=col>&lt;chr&gt;</th><th scope=col>&lt;int&gt;</th><th scope=col>&lt;int&gt;</th></tr>\n",
       "</thead>\n",
       "<tbody>\n",
       "\t<tr><th scope=row>1</th><td>2015-05-01</td><td>61</td><td>58</td></tr>\n",
       "\t<tr><th scope=row>2</th><td>2015-05-02</td><td>56</td><td>69</td></tr>\n",
       "\t<tr><th scope=row>3</th><td>2015-05-03</td><td>72</td><td>54</td></tr>\n",
       "\t<tr><th scope=row>4</th><td>2015-05-04</td><td>66</td><td>71</td></tr>\n",
       "\t<tr><th scope=row>5</th><td>2015-05-05</td><td>73</td><td>84</td></tr>\n",
       "\t<tr><th scope=row>6</th><td>2015-05-06</td><td>76</td><td>73</td></tr>\n",
       "</tbody>\n",
       "</table>\n"
      ],
      "text/latex": [
       "A data.frame: 6 × 3\n",
       "\\begin{tabular}{r|lll}\n",
       "  & date2 & NEUIL & RUR.SE\\\\\n",
       "  & <chr> & <int> & <int>\\\\\n",
       "\\hline\n",
       "\t1 & 2015-05-01 & 61 & 58\\\\\n",
       "\t2 & 2015-05-02 & 56 & 69\\\\\n",
       "\t3 & 2015-05-03 & 72 & 54\\\\\n",
       "\t4 & 2015-05-04 & 66 & 71\\\\\n",
       "\t5 & 2015-05-05 & 73 & 84\\\\\n",
       "\t6 & 2015-05-06 & 76 & 73\\\\\n",
       "\\end{tabular}\n"
      ],
      "text/markdown": [
       "\n",
       "A data.frame: 6 × 3\n",
       "\n",
       "| <!--/--> | date2 &lt;chr&gt; | NEUIL &lt;int&gt; | RUR.SE &lt;int&gt; |\n",
       "|---|---|---|---|\n",
       "| 1 | 2015-05-01 | 61 | 58 |\n",
       "| 2 | 2015-05-02 | 56 | 69 |\n",
       "| 3 | 2015-05-03 | 72 | 54 |\n",
       "| 4 | 2015-05-04 | 66 | 71 |\n",
       "| 5 | 2015-05-05 | 73 | 84 |\n",
       "| 6 | 2015-05-06 | 76 | 73 |\n",
       "\n"
      ],
      "text/plain": [
       "  date2      NEUIL RUR.SE\n",
       "1 2015-05-01 61    58    \n",
       "2 2015-05-02 56    69    \n",
       "3 2015-05-03 72    54    \n",
       "4 2015-05-04 66    71    \n",
       "5 2015-05-05 73    84    \n",
       "6 2015-05-06 76    73    "
      ]
     },
     "metadata": {},
     "output_type": "display_data"
    }
   ],
   "source": [
    "setwd(\".\")\n",
    "Hiver = read.csv(\"Ozone_hiver.csv\")\n",
    "Ete = read.csv(\"Ozone_ete.csv\")\n",
    "\n",
    "head(Hiver)\n",
    "head(Ete)"
   ]
  },
  {
   "cell_type": "code",
   "execution_count": 66,
   "id": "1700513e",
   "metadata": {
    "vscode": {
     "languageId": "r"
    }
   },
   "outputs": [],
   "source": [
    "X_hiver = Hiver[,'NEUIL']; Y_hiver = Hiver[,'RUR.SE']\n",
    "X_ete= Ete[,'NEUIL']; Y_ete = Ete[,'RUR.SE']"
   ]
  },
  {
   "cell_type": "markdown",
   "id": "d45d17a6",
   "metadata": {},
   "source": [
    "**Ex9.** Appliquer l'analyse exploratoire des données (TPs 1-2) et suggérer un modèle approprié pour $D_i$."
   ]
  },
  {
   "cell_type": "code",
   "execution_count": null,
   "id": "4f6dfa56",
   "metadata": {
    "vscode": {
     "languageId": "r"
    }
   },
   "outputs": [
    {
     "data": {
      "image/png": "[encoded data removed]",
      "text/plain": [
       "Plot with title “Distribution de D_i (Hiver)”"
      ]
     },
     "metadata": {
      "image/png": {
       "height": 420,
       "width": 420
      }
     },
     "output_type": "display_data"
    },
    {
     "data": {
      "image/png": "[encoded data removed]",
      "text/plain": [
       "Plot with title “Distribution de D_i (Ete)”"
      ]
     },
     "metadata": {
      "image/png": {
       "height": 420,
       "width": 420
      }
     },
     "output_type": "display_data"
    }
   ],
   "source": [
    "# Création des variables D_i pour l'hiver et l'été\n",
    "D_hiver = X_hiver - Y_hiver\n",
    "D_ete = X_ete - Y_ete\n",
    "\n",
    "# Visualisation des distributions de D_i pour l'hiver et l'été\n",
    "# Modèle choisi : loi normale\n",
    "\n",
    "# Histogramme de D_hiver avec superposition de la loi normale\n",
    "mu_hiver <- mean(D_hiver)\n",
    "sigma_hiver <- sd(D_hiver)\n",
    "hist(D_hiver, main = \"Distribution de D_i (Hiver)\", xlab = \"D_i = X_i - Y_i (Hiver)\", breaks = 30, prob = TRUE)\n",
    "curve(dnorm(x, mean = mu_hiver, sd = sigma_hiver), add = TRUE, col = \"red\", lwd = 2)\n",
    "\n",
    "# Histogramme de D_ete avec superposition de la loi normale\n",
    "mu_ete <- mean(D_ete)\n",
    "sigma_ete <- sd(D_ete)\n",
    "hist(D_ete, main = \"Distribution de D_i (Ete)\", xlab = \"D_i = X_i - Y_i (Ete)\", breaks = 30, prob = TRUE)\n",
    "curve(dnorm(x, mean = mu_ete, sd = sigma_ete), add = TRUE, col = \"red\", lwd = 2)\n",
    "\n"
   ]
  },
  {
   "cell_type": "markdown",
   "id": "1dc4d831",
   "metadata": {},
   "source": [
    "**Ex10.** En supposant que les différences $D_i$ forment un échantillon iid suivant une loi normale $N(\\mu, \\sigma^2)$, quelle est l'hypothèse sous-jacente que nous voulons tester ? Définir $H_0$ et $H_1$ et effectuez le test pour les données en été et en hiver séparément. Quelle est la conclusion?"
   ]
  },
  {
   "cell_type": "markdown",
   "id": "e017b2f5",
   "metadata": {},
   "source": [
    "**Hypothèse de rejet/nulle** ($H_0$) : $D_i\\sim\\mathcal{N}(\\mu,\\sigma^2)$\n",
    "\n",
    "**Hypothèse de test** ($H_1$) : $D_i\\cancel\\sim\\mathcal{N}(\\mu,\\sigma^2)$"
   ]
  },
  {
   "cell_type": "code",
   "execution_count": 93,
   "id": "6ae5ec96",
   "metadata": {
    "vscode": {
     "languageId": "r"
    }
   },
   "outputs": [
    {
     "name": "stdout",
     "output_type": "stream",
     "text": [
      "Test Kolmogorov pour l'hiver : \n",
      "On rejette H0 : D_n = 0.07526385 > valeur critique = 0.02769345 \n",
      "\n",
      "Test Kolmogorov pour l'été : \n",
      "On rejette H0 : D_n = 0.0983553 > valeur critique = 0.02804326 \n"
     ]
    }
   ],
   "source": [
    "# En prenant exemple sur le test de Kolmogorov-Smirnov précédent, on va tester si les données D_hiver et D_ete suivent une loi normale avec des paramètres estimés à partir des données observées.\n",
    "\n",
    "# Estimation des paramètres des données observées\n",
    "mu_hiver <- mean(D_hiver)\n",
    "sigma_hiver <- sd(D_hiver)\n",
    "\n",
    "mu_ete <- mean(D_ete)\n",
    "sigma_ete <- sd(D_ete)\n",
    "\n",
    "# Nombre de simulations\n",
    "simu <- 1000\n",
    "\n",
    "# Initialisation des vecteurs pour stocker les valeurs de la statistique KS\n",
    "D_sim_hiver <- numeric(simu)\n",
    "D_sim_ete <- numeric(simu)\n",
    "\n",
    "# Simulation pour l'hiver\n",
    "for (s in 1:simu) {\n",
    "  # Générer des données simulées sous H0 (loi normale avec mu_hiver et sigma_hiver)\n",
    "  D_sim <- rnorm(n, mean = mu_hiver, sd = sigma_hiver)\n",
    "  \n",
    "  # Réestimer les paramètres sur l'échantillon simulé\n",
    "  mu_sim_hiver <- mean(D_sim)\n",
    "  sigma_sim_hiver <- sd(D_sim)\n",
    "  \n",
    "  # Calculer la statistique KS pour l'hiver (en comparant avec la loi normale théorique)\n",
    "  D_sim_hiver[s] <- ks_stat(x = D_sim, mu = mu_sim_hiver, sigma = sigma_sim_hiver)\n",
    "}\n",
    "\n",
    "# Simulation pour l'été\n",
    "for (s in 1:simu) {\n",
    "  # Générer des données simulées sous H0 (loi normale avec mu_ete et sigma_ete)\n",
    "  D_sim <- rnorm(n, mean = mu_ete, sd = sigma_ete)\n",
    "  \n",
    "  # Réestimer les paramètres sur l'échantillon simulé\n",
    "  mu_sim_ete <- mean(D_sim)\n",
    "  sigma_sim_ete <- sd(D_sim)\n",
    "  \n",
    "  # Calculer la statistique KS pour l'été\n",
    "  D_sim_ete[s] <- ks_stat(x = D_sim, mu = mu_sim_ete, sigma = sigma_sim_ete)\n",
    "}\n",
    "\n",
    "# Calcul des valeurs critiques\n",
    "alp <- 0.05 # standard\n",
    "quantile_hiver <- quantile(D_sim_hiver, probs = 1 - alp)\n",
    "quantile_ete <- quantile(D_sim_ete, probs = 1 - alp)\n",
    "\n",
    "# Statistiques KS observées\n",
    "D_obs_hiver <- ks_stat(D_hiver, mu = mu_hiver, sigma = sigma_hiver)\n",
    "D_obs_ete <- ks_stat(D_ete, mu = mu_ete, sigma = sigma_ete)\n",
    "\n",
    "# Conclusion pour l'hiver\n",
    "cat(\"Test Kolmogorov pour l'hiver : \\n\")\n",
    "if (D_obs_hiver > quantile_hiver) {\n",
    "  cat(\"On rejette H0 : D_n =\", D_obs_hiver, \"> valeur critique =\", quantile_hiver, \"\\n\")\n",
    "} else {\n",
    "  cat(\"On ne rejette pas H0 : D_n =\", D_obs_hiver, \"<= valeur critique =\", quantile_hiver, \"\\n\")\n",
    "}\n",
    "\n",
    "# Conclusion pour l'été\n",
    "cat(\"\\nTest Kolmogorov pour l'été : \\n\")\n",
    "if (D_obs_ete > quantile_ete) {\n",
    "  cat(\"On rejette H0 : D_n =\", D_obs_ete, \"> valeur critique =\", quantile_ete, \"\\n\")\n",
    "} else {\n",
    "  cat(\"On ne rejette pas H0 : D_n =\", D_obs_ete, \"<= valeur critique =\", quantile_ete, \"\\n\")\n",
    "}\n"
   ]
  },
  {
   "cell_type": "markdown",
   "id": "f5cc6b08",
   "metadata": {},
   "source": [
    "Pour $\\alpha=0.05$ : \n",
    "\n",
    "- **Test pour l'hiver** : \n",
    "On rejette $H0 : D_n = 0.07526385 >$ valeur critique $= 0.02812727$ \n",
    "\n",
    "- **Test pour l'été** : \n",
    "On rejette $H0 : D_n = 0.0983553 >$ valeur critique $= 0.02797001$"
   ]
  },
  {
   "cell_type": "markdown",
   "id": "f4b1532c",
   "metadata": {},
   "source": [
    "**Ex11. (Bonus)** Pour les données sur l'ozone, nous voulons tester si l'hypothèse de gaussianité était appropriée. Nous envisageons deux scénarios. Le premier est que les données originales de l'ozone suivent une loi gaussienne ($H_0^{(1)}$). \n",
    "Le second suppose que seules les différences suivent la loi gaussienne ($H_0^{(2)}$).\n",
    "Effectuer les tests utilisant la méthode asymptotique et la méthode de simulation. Résumez vos conclusions."
   ]
  },
  {
   "cell_type": "code",
   "execution_count": null,
   "id": "03580567",
   "metadata": {
    "vscode": {
     "languageId": "r"
    }
   },
   "outputs": [
    {
     "name": "stderr",
     "output_type": "stream",
     "text": [
      "Warning message in ks.test.default(X_hiver, \"pnorm\", mean = mean(X_hiver) + 0.1, :\n",
      "“ties should not be present for the Kolmogorov-Smirnov test”\n"
     ]
    },
    {
     "data": {
      "text/plain": [
       "\n",
       "\tAsymptotic one-sample Kolmogorov-Smirnov test\n",
       "\n",
       "data:  X_hiver\n",
       "D = 0.073115, p-value = 0.01416\n",
       "alternative hypothesis: two-sided\n"
      ]
     },
     "metadata": {},
     "output_type": "display_data"
    },
    {
     "name": "stderr",
     "output_type": "stream",
     "text": [
      "Warning message in ks.test.default(Y_hiver, \"pnorm\", mean = mean(Y_hiver), sd = sd(Y_hiver)):\n",
      "“ties should not be present for the Kolmogorov-Smirnov test”\n"
     ]
    },
    {
     "data": {
      "text/plain": [
       "\n",
       "\tAsymptotic one-sample Kolmogorov-Smirnov test\n",
       "\n",
       "data:  Y_hiver\n",
       "D = 0.091546, p-value = 0.0008525\n",
       "alternative hypothesis: two-sided\n"
      ]
     },
     "metadata": {},
     "output_type": "display_data"
    },
    {
     "name": "stdout",
     "output_type": "stream",
     "text": [
      "On rejette H0\n",
      "On rejette H0\n"
     ]
    }
   ],
   "source": [
    "# Pour le premier couple d'hypothèses\n",
    "\n",
    "# Méthode asymptotique\n",
    "ks.test(X_hiver, \"pnorm\", mean=mean(X_hiver), sd=sd(X_hiver))\n",
    "ks.test(Y_hiver, \"pnorm\", mean=mean(Y_hiver), sd=sd(Y_hiver))\n",
    "\n",
    "# Méthode de simulation\n",
    "# Pour X_hiver\n",
    "mu_hat <- mean(X_hiver)\n",
    "sigma_hat <- sd(X_hiver)\n",
    "D_obs <- ks_stat(X_hiver, mu_hat, sigma_hat)\n",
    "\n",
    "simu <- 1000\n",
    "D_sim <- numeric(simu)\n",
    "n <- length(X_hiver)\n",
    "\n",
    "for (s in 1:simu) {\n",
    "  x_sim <- rnorm(n, mean=mu_hat, sd=sigma_hat)\n",
    "  mu_sim <- mean(x_sim)\n",
    "  sigma_sim <- sd(x_sim)\n",
    "  D_sim[s] <- ks_stat(x_sim, mu_sim, sigma_sim)\n",
    "}\n",
    "quantile_alpha <- quantile(D_sim, probs = 0.95)\n",
    "if (D_obs > quantile_alpha) {\n",
    "  cat(\"On rejette H0\\n\")\n",
    "} else {\n",
    "  cat(\"On ne rejette pas H0\\n\")\n",
    "}\n",
    "\n",
    "# Pour Y_hiver\n",
    "ks_stat <- function(x, mu, sigma) {\n",
    "  x_ord <- sort(x)\n",
    "  n <- length(x)\n",
    "  F_emp <- (1:n)/n\n",
    "  F_theo <- pnorm(x_ord, mean = mu, sd = sigma)\n",
    "  D <- max(abs(F_emp - F_theo))\n",
    "  return(D)\n",
    "}\n",
    "\n",
    "mu_hat <- mean(Y_hiver)\n",
    "sigma_hat <- sd(Y_hiver)\n",
    "D_obs <- ks_stat(Y_hiver, mu_hat, sigma_hat)\n",
    "\n",
    "simu <- 1000\n",
    "D_sim <- numeric(simu)\n",
    "n <- length(Y_hiver)\n",
    "\n",
    "for (s in 1:simu) {\n",
    "  x_sim <- rnorm(n, mean=mu_hat, sd=sigma_hat)\n",
    "  mu_sim <- mean(x_sim)\n",
    "  sigma_sim <- sd(x_sim)\n",
    "  D_sim[s] <- ks_stat(x_sim, mu_sim, sigma_sim)\n",
    "}\n",
    "quantile_alpha <- quantile(D_sim, probs = 0.95)\n",
    "if (D_obs > quantile_alpha) {\n",
    "  cat(\"On rejette H0\\n\")\n",
    "} else {\n",
    "  cat(\"On ne rejette pas H0\\n\")\n",
    "}"
   ]
  },
  {
   "cell_type": "code",
   "execution_count": 101,
   "id": "c0cb4807",
   "metadata": {
    "vscode": {
     "languageId": "r"
    }
   },
   "outputs": [
    {
     "name": "stderr",
     "output_type": "stream",
     "text": [
      "Warning message in ks.test.default(X_hiver, \"pnorm\", mean = mean(D_hiver), sd = sd(D_hiver)):\n",
      "“ties should not be present for the Kolmogorov-Smirnov test”\n"
     ]
    },
    {
     "data": {
      "text/plain": [
       "\n",
       "\tAsymptotic one-sample Kolmogorov-Smirnov test\n",
       "\n",
       "data:  X_hiver\n",
       "D = 0.94845, p-value < 2.2e-16\n",
       "alternative hypothesis: two-sided\n"
      ]
     },
     "metadata": {},
     "output_type": "display_data"
    },
    {
     "name": "stderr",
     "output_type": "stream",
     "text": [
      "Warning message in ks.test.default(Y_hiver, \"pnorm\", mean = mean(D_hiver), sd = sd(D_hiver)):\n",
      "“ties should not be present for the Kolmogorov-Smirnov test”\n"
     ]
    },
    {
     "data": {
      "text/plain": [
       "\n",
       "\tAsymptotic one-sample Kolmogorov-Smirnov test\n",
       "\n",
       "data:  Y_hiver\n",
       "D = 0.98584, p-value < 2.2e-16\n",
       "alternative hypothesis: two-sided\n"
      ]
     },
     "metadata": {},
     "output_type": "display_data"
    },
    {
     "name": "stdout",
     "output_type": "stream",
     "text": [
      "On rejette H0\n",
      "On rejette H0\n"
     ]
    }
   ],
   "source": [
    "# Pour le deuxième couple d'hypothèses\n",
    "\n",
    "D_hiver = X_hiver - Y_hiver\n",
    "D_ete = X_ete - Y_ete\n",
    "\n",
    "# Méthode asymptotique\n",
    "ks.test(X_hiver, \"pnorm\", mean=mean(D_hiver), sd=sd(D_hiver))\n",
    "ks.test(Y_hiver, \"pnorm\", mean=mean(D_hiver), sd=sd(D_hiver))\n",
    "\n",
    "# Méthode de simulation\n",
    "# Pour D_hiver\n",
    "mu_hat <- mean(D_hiver)\n",
    "sigma_hat <- sd(D_hiver)\n",
    "D_obs <- ks_stat(D_hiver, mu_hat, sigma_hat)\n",
    "\n",
    "D_sim <- numeric(simu)\n",
    "n <- length(D_hiver)\n",
    "\n",
    "for (s in 1:simu) {\n",
    "  x_sim <- rnorm(n, mean=mu_hat, sd=sigma_hat)\n",
    "  mu_sim <- mean(x_sim)\n",
    "  sigma_sim <- sd(x_sim)\n",
    "  D_sim[s] <- ks_stat(x_sim, mu_sim, sigma_sim)\n",
    "}\n",
    "quantile_alpha <- quantile(D_sim, probs = 0.95)\n",
    "if (D_obs > quantile_alpha) {\n",
    "  cat(\"On rejette H0\\n\")\n",
    "} else {\n",
    "  cat(\"On ne rejette pas H0\\n\")\n",
    "}\n",
    "\n",
    "# Pour D_ete\n",
    "mu_hat <- mean(D_ete)\n",
    "sigma_hat <- sd(D_ete)\n",
    "D_obs <- ks_stat(D_ete, mu_hat, sigma_hat)\n",
    "\n",
    "D_sim <- numeric(simu)\n",
    "n <- length(D_ete)\n",
    "\n",
    "for (s in 1:simu) {\n",
    "  x_sim <- rnorm(n, mean=mu_hat, sd=sigma_hat)\n",
    "  mu_sim <- mean(x_sim)\n",
    "  sigma_sim <- sd(x_sim)\n",
    "  D_sim[s] <- ks_stat(x_sim, mu_sim, sigma_sim)\n",
    "}\n",
    "quantile_alpha <- quantile(D_sim, probs = 0.95)\n",
    "if (D_obs > quantile_alpha) {\n",
    "  cat(\"On rejette H0\\n\")\n",
    "} else {\n",
    "  cat(\"On ne rejette pas H0\\n\")\n",
    "}"
   ]
  },
  {
   "cell_type": "markdown",
   "id": "c56a1d04",
   "metadata": {},
   "source": [
    "Dans les deux cas, les deux méthodes, qu'elles soient de simulation ou asymptotique, montrent que l'on doit rejetter $H_0$, c'est-à-dire que les données ne suivent pas une distribution gaussienne."
   ]
  }
 ],
 "metadata": {
  "kernelspec": {
   "display_name": "R",
   "language": "R",
   "name": "ir"
  },
  "language_info": {
   "codemirror_mode": "r",
   "file_extension": ".r",
   "mimetype": "text/x-r-source",
   "name": "R",
   "pygments_lexer": "r",
   "version": "4.2.2"
  }
 },
 "nbformat": 4,
 "nbformat_minor": 5
}
